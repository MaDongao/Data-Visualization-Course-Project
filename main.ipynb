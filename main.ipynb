{
 "cells": [
  {
   "cell_type": "code",
   "execution_count": 1,
   "id": "dense-blind",
   "metadata": {},
   "outputs": [],
   "source": [
    "# Basic Setup\n",
    "import numpy as np\n",
    "import pandas as pd\n",
    "from sklearn.naive_bayes import GaussianNB\n",
    "from sklearn.svm import SVC\n",
    "from sklearn.svm import LinearSVC\n",
    "from sklearn.preprocessing import StandardScaler\n",
    "from sklearn.linear_model import LogisticRegression\n",
    "from sklearn.neighbors import KNeighborsClassifier\n",
    "from sklearn.tree import DecisionTreeClassifier\n",
    "import collections\n",
    "import matplotlib.pyplot as plt"
   ]
  },
  {
   "cell_type": "code",
   "execution_count": 2,
   "id": "enclosed-transition",
   "metadata": {},
   "outputs": [
    {
     "name": "stdout",
     "output_type": "stream",
     "text": [
      "<class 'pandas.core.frame.DataFrame'>\n",
      "RangeIndex: 32561 entries, 0 to 32560\n",
      "Data columns (total 15 columns):\n",
      " #   Column          Non-Null Count  Dtype \n",
      "---  ------          --------------  ----- \n",
      " 0   Age             32561 non-null  int64 \n",
      " 1   Workclass       32561 non-null  object\n",
      " 2   Fnlwgt          32561 non-null  int64 \n",
      " 3   Education       32561 non-null  object\n",
      " 4   Education_Num   32561 non-null  int64 \n",
      " 5   Marital_Status  32561 non-null  object\n",
      " 6   Occupation      32561 non-null  object\n",
      " 7   Relationship    32561 non-null  object\n",
      " 8   Race            32561 non-null  object\n",
      " 9   Sex             32561 non-null  object\n",
      " 10  Capital_Gain    32561 non-null  int64 \n",
      " 11  Capital_Loss    32561 non-null  int64 \n",
      " 12  Hours_Per_Week  32561 non-null  int64 \n",
      " 13  Native_Country  32561 non-null  object\n",
      " 14  Income          32561 non-null  object\n",
      "dtypes: int64(6), object(9)\n",
      "memory usage: 3.7+ MB\n"
     ]
    }
   ],
   "source": [
    "# Read Data\n",
    "training_data = pd.read_csv('adult.data', sep=',', header=None)\n",
    "attributes_names = ['Age', 'Workclass','Fnlwgt','Education','Education_Num','Marital_Status',\n",
    "                    'Occupation','Relationship','Race','Sex','Capital_Gain','Capital_Loss',\n",
    "                    'Hours_Per_Week','Native_Country','Income']\n",
    "training_data.columns = attributes_names\n",
    "training_data.info()"
   ]
  },
  {
   "cell_type": "code",
   "execution_count": 3,
   "id": "experimental-scientist",
   "metadata": {},
   "outputs": [
    {
     "name": "stdout",
     "output_type": "stream",
     "text": [
      "Number of data in dataset after removing unkown value:\t 30162\n",
      "{1: {'State-gov': 5, 'Self-emp-not-inc': 4, 'Private': 2, 'Federal-gov': 0, 'Local-gov': 1, 'Self-emp-inc': 3, 'Without-pay': 6}, 3: {'Bachelors': 9, 'HS-grad': 11, '11th': 1, 'Masters': 12, '9th': 6, 'Some-college': 15, 'Assoc-acdm': 7, '7th-8th': 5, 'Doctorate': 10, 'Assoc-voc': 8, 'Prof-school': 14, '5th-6th': 4, '10th': 0, 'Preschool': 13, '12th': 2, '1st-4th': 3}, 5: {'Never-married': 4, 'Married-civ-spouse': 2, 'Divorced': 0, 'Married-spouse-absent': 3, 'Separated': 5, 'Married-AF-spouse': 1, 'Widowed': 6}, 6: {'Adm-clerical': 0, 'Exec-managerial': 3, 'Handlers-cleaners': 5, 'Prof-specialty': 9, 'Other-service': 7, 'Sales': 11, 'Transport-moving': 13, 'Farming-fishing': 4, 'Machine-op-inspct': 6, 'Tech-support': 12, 'Craft-repair': 2, 'Protective-serv': 10, 'Armed-Forces': 1, 'Priv-house-serv': 8}, 7: {'Not-in-family': 1, 'Husband': 0, 'Wife': 5, 'Own-child': 3, 'Unmarried': 4, 'Other-relative': 2}, 8: {'White': 4, 'Black': 2, 'Asian-Pac-Islander': 1, 'Amer-Indian-Eskimo': 0, 'Other': 3}, 9: {'Male': 1, 'Female': 0}, 13: {'United-States': 38, 'Cuba': 4, 'Jamaica': 22, 'India': 18, 'Mexico': 25, 'Puerto-Rico': 32, 'Honduras': 15, 'England': 8, 'Canada': 1, 'Germany': 10, 'Iran': 19, 'Philippines': 29, 'Poland': 30, 'Columbia': 3, 'Cambodia': 0, 'Thailand': 36, 'Ecuador': 6, 'Laos': 24, 'Taiwan': 35, 'Haiti': 13, 'Portugal': 31, 'Dominican-Republic': 5, 'El-Salvador': 7, 'France': 9, 'Guatemala': 12, 'Italy': 21, 'China': 2, 'South': 34, 'Japan': 23, 'Yugoslavia': 40, 'Peru': 28, 'Outlying-US(Guam-USVI-etc)': 27, 'Scotland': 33, 'Trinadad&Tobago': 37, 'Greece': 11, 'Nicaragua': 26, 'Vietnam': 39, 'Hong': 16, 'Ireland': 20, 'Hungary': 17, 'Holand-Netherlands': 14}}\n",
      "       Age  Workclass  Fnlwgt  Education  Education_Num  Marital_Status  \\\n",
      "0       39          5   77516          9             13               4   \n",
      "1       50          4   83311          9             13               2   \n",
      "2       38          2  215646         11              9               0   \n",
      "3       53          2  234721          1              7               2   \n",
      "4       28          2  338409          9             13               2   \n",
      "...    ...        ...     ...        ...            ...             ...   \n",
      "32556   27          2  257302          7             12               2   \n",
      "32557   40          2  154374         11              9               2   \n",
      "32558   58          2  151910         11              9               6   \n",
      "32559   22          2  201490         11              9               4   \n",
      "32560   52          3  287927         11              9               2   \n",
      "\n",
      "       Occupation  Relationship  Race  Sex  Capital_Gain  Capital_Loss  \\\n",
      "0               0             1     4    1          2174             0   \n",
      "1               3             0     4    1             0             0   \n",
      "2               5             1     4    1             0             0   \n",
      "3               5             0     2    1             0             0   \n",
      "4               9             5     2    0             0             0   \n",
      "...           ...           ...   ...  ...           ...           ...   \n",
      "32556          12             5     4    0             0             0   \n",
      "32557           6             0     4    1             0             0   \n",
      "32558           0             4     4    0             0             0   \n",
      "32559           0             3     4    1             0             0   \n",
      "32560           3             5     4    0         15024             0   \n",
      "\n",
      "       Hours_Per_Week  Native_Country  Income  \n",
      "0                  40              38       0  \n",
      "1                  13              38       0  \n",
      "2                  40              38       0  \n",
      "3                  40              38       0  \n",
      "4                  40               4       0  \n",
      "...               ...             ...     ...  \n",
      "32556              38              38       0  \n",
      "32557              40              38       1  \n",
      "32558              40              38       0  \n",
      "32559              20              38       0  \n",
      "32560              40              38       1  \n",
      "\n",
      "[30162 rows x 15 columns]\n"
     ]
    }
   ],
   "source": [
    "object_columns = ['Workclass', 'Education', 'Marital_Status', 'Occupation',\n",
    "                          'Relationship', 'Race', 'Sex', 'Native_Country', 'Income']\n",
    "\n",
    "# remove unknown value ('?')\n",
    "for str_col in object_columns:\n",
    "    training_data = training_data[training_data[str_col] != ' ?']\n",
    "    \n",
    "#assign numerical value for categorical value\n",
    "numerical_training_data = training_data.copy()\n",
    "for str_col in object_columns:\n",
    "    numerical_training_data[str_col] = numerical_training_data[str_col].astype('category').cat.codes\n",
    "    \n",
    "    \n",
    "print('Number of data in dataset after removing unkown value:\\t', len(numerical_training_data))\n",
    "\n",
    "# record numerical value for categorical value in each object attribute\n",
    "corresponding_attributes = {}\n",
    "for j in (1, 3, 5, 6, 7, 8, 9, 13):\n",
    "    dic, numerical_list = {}, list(numerical_training_data[attributes_names[j]])\n",
    "    for i, temp_str in enumerate(list(training_data[attributes_names[j]])):\n",
    "        if temp_str.strip() not in dic:\n",
    "            dic[temp_str.strip()] = numerical_list[i]\n",
    "    corresponding_attributes[j] = dic\n",
    "print(corresponding_attributes)\n",
    "print(numerical_training_data)"
   ]
  },
  {
   "cell_type": "code",
   "execution_count": 4,
   "id": "associate-camel",
   "metadata": {},
   "outputs": [
    {
     "data": {
      "image/png": "[encoded data removed]",
      "text/plain": [
       "<Figure size 720x288 with 1 Axes>"
      ]
     },
     "metadata": {
      "needs_background": "light"
     },
     "output_type": "display_data"
    }
   ],
   "source": [
    "# Plot Group 1 - Income vs Education Level\n",
    "\n",
    "# Box Plot\n",
    "# get the education levels and count how many groups are in each level\n",
    "less = numerical_training_data[numerical_training_data['Income'] == 0]\n",
    "more = numerical_training_data[numerical_training_data['Income'] == 1]\n",
    "less_than_50k = less['Education_Num'].value_counts().to_dict()\n",
    "more_than_50k = more['Education_Num'].value_counts().to_dict()\n",
    "# print(less)\n",
    "# print(more_than_50k)\n",
    "\n",
    "# fill the Count Dataframe if there exists key(s) that has(have) 0 value\n",
    "for i in range(1, 17):\n",
    "    if i not in less_than_50k:\n",
    "        less_than_50k[i] = 0\n",
    "for i in range(1, 17):\n",
    "    if i not in more_than_50k:\n",
    "        more_than_50k[i] = 0\n",
    "\n",
    "# print(sorted(less_than_50k.items(), key = lambda x: x[0]))\n",
    "# print(more_than_50k)   \n",
    "\n",
    "# extract the values of groups\n",
    "less_than_50k = sorted(less_than_50k.items(), key=lambda x: x[0])\n",
    "more_than_50k = sorted(more_than_50k.items(), key=lambda x: x[0])\n",
    "less_than_50k_values = [value for key, value in less_than_50k]\n",
    "more_than_50k_values = [value for key, value in more_than_50k]\n",
    "\n",
    "# plot the graph\n",
    "df = pd.DataFrame({'Income <=50K': less_than_50k_values, 'Income >50K': more_than_50k_values})\n",
    "df.plot(kind=\"bar\", colormap='Paired', figsize=(10,4))\n",
    "\n",
    "plt.title(\"Bar Plot: Income vs Education-Num\", fontsize=20, pad=20)\n",
    "plt.legend(loc=1, prop={'size': 13})\n",
    "plt.xlabel(\"Education Levels\", fontsize=17)\n",
    "plt.ylabel(\"Groups\", fontsize=17)\n",
    "plt.show()"
   ]
  },
  {
   "cell_type": "code",
   "execution_count": 5,
   "id": "gorgeous-cassette",
   "metadata": {},
   "outputs": [
    {
     "data": {
      "image/png": "[encoded data removed]",
      "text/plain": [
       "<Figure size 864x432 with 1 Axes>"
      ]
     },
     "metadata": {
      "needs_background": "light"
     },
     "output_type": "display_data"
    }
   ],
   "source": [
    "# Box-Whisker Plot\n",
    "\n",
    "df_less_than_50k = numerical_training_data[numerical_training_data['Income'] == 0]\n",
    "df_more_than_50k = numerical_training_data[numerical_training_data['Income'] == 1]\n",
    "\n",
    "# plot and show the range of education levels of two different income groups\n",
    "fig, ax = plt.subplots(figsize=(12,6))\n",
    "dataset = [df_less_than_50k[\"Education_Num\"], df_more_than_50k[\"Education_Num\"]]\n",
    "labels = [\"<=50K\",\">50K\"]\n",
    "ax.boxplot(dataset, labels=labels)\n",
    "\n",
    "plt.yticks(range(1,17,1))\n",
    "plt.xlabel(\"Income\", fontsize=17)\n",
    "plt.ylabel(\"Education Level\", fontsize=17)\n",
    "plt.title(\"Box Plot: Income vs Education-Num\", fontsize=20, pad=20)\n",
    "plt.show()"
   ]
  },
  {
   "cell_type": "code",
   "execution_count": 6,
   "id": "veterinary-sacramento",
   "metadata": {},
   "outputs": [
    {
     "data": {
      "image/png": "[encoded data removed]",
      "text/plain": [
       "<Figure size 432x288 with 3 Axes>"
      ]
     },
     "metadata": {
      "needs_background": "light"
     },
     "output_type": "display_data"
    }
   ],
   "source": [
    "# Plot 2 - Income vs Sex (Mosaic Plot)\n",
    "from statsmodels.graphics.mosaicplot import mosaic\n",
    "\n",
    "cols = {(\" Male\", \" <=50K\"):'#00FFFF', (' Male',' >50K'):'#00BFFF',(' Female',' <=50K'):'#FFE4E1', (' Female',' >50K'):'#FFB6C1'}\n",
    "mosaic(training_data, [\"Sex\",\"Income\"], properties=lambda key:{'color':cols[key]})\n",
    "plt.show()"
   ]
  },
  {
   "cell_type": "code",
   "execution_count": 7,
   "id": "durable-click",
   "metadata": {},
   "outputs": [],
   "source": [
    "# Additional cell used to polt"
   ]
  },
  {
   "cell_type": "code",
   "execution_count": 8,
   "id": "threatened-canberra",
   "metadata": {},
   "outputs": [
    {
     "name": "stdout",
     "output_type": "stream",
     "text": [
      "1\n"
     ]
    }
   ],
   "source": [
    "print(1)"
   ]
  },
  {
   "cell_type": "code",
   "execution_count": 9,
   "id": "powerful-apache",
   "metadata": {},
   "outputs": [
    {
     "name": "stdout",
     "output_type": "stream",
     "text": [
      "1\n"
     ]
    }
   ],
   "source": [
    "print(1)"
   ]
  },
  {
   "cell_type": "code",
   "execution_count": 10,
   "id": "knowing-mountain",
   "metadata": {},
   "outputs": [
    {
     "name": "stdout",
     "output_type": "stream",
     "text": [
      "1\n"
     ]
    }
   ],
   "source": [
    "print(1)"
   ]
  },
  {
   "cell_type": "code",
   "execution_count": 11,
   "id": "therapeutic-residence",
   "metadata": {},
   "outputs": [
    {
     "name": "stdout",
     "output_type": "stream",
     "text": [
      "1\n"
     ]
    }
   ],
   "source": [
    "print(1)"
   ]
  },
  {
   "cell_type": "code",
   "execution_count": 12,
   "id": "endless-ceramic",
   "metadata": {},
   "outputs": [
    {
     "name": "stdout",
     "output_type": "stream",
     "text": [
      "1\n"
     ]
    }
   ],
   "source": [
    "print(1)"
   ]
  },
  {
   "cell_type": "code",
   "execution_count": 13,
   "id": "furnished-doctor",
   "metadata": {},
   "outputs": [
    {
     "name": "stdout",
     "output_type": "stream",
     "text": [
      "1\n"
     ]
    }
   ],
   "source": [
    "print(1)"
   ]
  },
  {
   "cell_type": "code",
   "execution_count": 14,
   "id": "centered-timeline",
   "metadata": {},
   "outputs": [
    {
     "name": "stdout",
     "output_type": "stream",
     "text": [
      "1\n"
     ]
    }
   ],
   "source": [
    "print(1)"
   ]
  },
  {
   "cell_type": "code",
   "execution_count": 15,
   "id": "norwegian-blackberry",
   "metadata": {},
   "outputs": [
    {
     "name": "stdout",
     "output_type": "stream",
     "text": [
      "1\n"
     ]
    }
   ],
   "source": [
    "print(1)"
   ]
  },
  {
   "cell_type": "code",
   "execution_count": 16,
   "id": "authentic-might",
   "metadata": {},
   "outputs": [
    {
     "name": "stdout",
     "output_type": "stream",
     "text": [
      "1\n"
     ]
    }
   ],
   "source": [
    "print(1)"
   ]
  },
  {
   "cell_type": "code",
   "execution_count": 17,
   "id": "productive-diesel",
   "metadata": {},
   "outputs": [
    {
     "name": "stdout",
     "output_type": "stream",
     "text": [
      "1\n"
     ]
    }
   ],
   "source": [
    "print(1)"
   ]
  },
  {
   "cell_type": "code",
   "execution_count": 18,
   "id": "breathing-opening",
   "metadata": {},
   "outputs": [
    {
     "name": "stdout",
     "output_type": "stream",
     "text": [
      "1\n"
     ]
    }
   ],
   "source": [
    "print(1)"
   ]
  },
  {
   "cell_type": "code",
   "execution_count": 19,
   "id": "otherwise-billion",
   "metadata": {},
   "outputs": [
    {
     "name": "stdout",
     "output_type": "stream",
     "text": [
      "1\n"
     ]
    }
   ],
   "source": [
    "print(1)"
   ]
  },
  {
   "cell_type": "code",
   "execution_count": 20,
   "id": "southern-chicken",
   "metadata": {},
   "outputs": [
    {
     "name": "stdout",
     "output_type": "stream",
     "text": [
      "1\n"
     ]
    }
   ],
   "source": [
    "print(1)"
   ]
  },
  {
   "cell_type": "code",
   "execution_count": 21,
   "id": "involved-steering",
   "metadata": {},
   "outputs": [
    {
     "name": "stdout",
     "output_type": "stream",
     "text": [
      "1\n"
     ]
    }
   ],
   "source": [
    "print(1)"
   ]
  },
  {
   "cell_type": "code",
   "execution_count": 22,
   "id": "fleet-phrase",
   "metadata": {},
   "outputs": [
    {
     "name": "stdout",
     "output_type": "stream",
     "text": [
      "1\n"
     ]
    }
   ],
   "source": [
    "print(1)"
   ]
  },
  {
   "cell_type": "code",
   "execution_count": 23,
   "id": "satisfactory-squad",
   "metadata": {},
   "outputs": [
    {
     "name": "stdout",
     "output_type": "stream",
     "text": [
      "1\n"
     ]
    }
   ],
   "source": [
    "print(1)"
   ]
  },
  {
   "cell_type": "markdown",
   "id": "sudden-bristol",
   "metadata": {},
   "source": [
    "Prediction:"
   ]
  },
  {
   "cell_type": "code",
   "execution_count": 24,
   "id": "short-ballot",
   "metadata": {},
   "outputs": [],
   "source": [
    "def load_test_data(corresponding_attributes):\n",
    "    inputs, expected_output = [],[]\n",
    "    # print(corresponding_attributes)\n",
    "    with open('adult.test', 'r') as myfile:\n",
    "        myfile.readline()         # flush the first line\n",
    "        line = myfile.readline()[:-2]      # ignore '.' and '\\n'\n",
    "        while line and line != '\\n':\n",
    "            temp_list = line.split(', ')\n",
    "            inputs_list, output_label = temp_list[:-1], temp_list[-1]\n",
    "            check_for_question_mark = False\n",
    "            for index, dic in corresponding_attributes.items():\n",
    "                if inputs_list[index].strip() == '?':\n",
    "                    check_for_question_mark = True\n",
    "                    break\n",
    "                if inputs_list[index].strip() in dic:\n",
    "                    inputs_list[index] = dic[inputs_list[index]]  \n",
    "            if check_for_question_mark:\n",
    "                line = myfile.readline()[:-2]\n",
    "                continue\n",
    "            if output_label.strip() == '<=50K':\n",
    "                expected_output.append(0)\n",
    "            else:\n",
    "                expected_output.append(1)\n",
    "            inputs.append(inputs_list)\n",
    "            line = myfile.readline()[:-2]\n",
    "    return np.array(inputs, dtype='int'), np.array(expected_output, dtype='int')\n",
    "\n",
    "training_inputs, training_class_labels = numerical_training_data.drop(columns=['Income']).to_numpy(dtype='int'), numerical_training_data['Income'].to_numpy(dtype='int')\n",
    "testing_inputs, testing_output = load_test_data(corresponding_attributes)\n",
    "\n",
    "# normalize data, ensure the range for each attribute are same\n",
    "training_inputs = StandardScaler().fit_transform(training_inputs)\n",
    "testing_inputs = StandardScaler().fit_transform(testing_inputs)"
   ]
  },
  {
   "cell_type": "markdown",
   "id": "religious-cambodia",
   "metadata": {},
   "source": [
    "Naive Bayes Classifcation"
   ]
  },
  {
   "cell_type": "code",
   "execution_count": 25,
   "id": "automotive-reform",
   "metadata": {},
   "outputs": [
    {
     "name": "stdout",
     "output_type": "stream",
     "text": [
      "Accuracy on training dataset (Naive-Bayes):\t 0.7975929978118161\n",
      "Accuracy on testing dataset (Naive-Bayes):\t 0.798871181938911\n"
     ]
    }
   ],
   "source": [
    "# Naive Bayes Classification\n",
    "naive_bayes_classifier = GaussianNB()\n",
    "naive_bayes_classifier.fit(training_inputs, training_class_labels)\n",
    "\n",
    "# Training_data accuracy\n",
    "estimated_training_output = naive_bayes_classifier.predict(training_inputs)\n",
    "print('Accuracy on training dataset (Naive-Bayes):\\t', naive_bayes_classifier.score(training_inputs, training_class_labels))\n",
    "\n",
    "# Testing_data accuracy\n",
    "estimated_testing_output = naive_bayes_classifier.predict(testing_inputs)\n",
    "print('Accuracy on testing dataset (Naive-Bayes):\\t', naive_bayes_classifier.score(testing_inputs, testing_output))"
   ]
  },
  {
   "cell_type": "markdown",
   "id": "impossible-installation",
   "metadata": {},
   "source": [
    "Support Vector Machine(SVM)"
   ]
  },
  {
   "cell_type": "code",
   "execution_count": 26,
   "id": "medium-rescue",
   "metadata": {},
   "outputs": [
    {
     "name": "stdout",
     "output_type": "stream",
     "text": [
      "Accuracy on training dataset (SVM):\t 0.8525296730986008\n",
      "Accuracy on testing dataset (SVM):\t 0.8460159362549801\n"
     ]
    }
   ],
   "source": [
    "svm_classifier = SVC() #'RBF' as default model\n",
    "svm_classifier.fit(training_inputs, training_class_labels)\n",
    "\n",
    "# Training_data accuracy\n",
    "print('Accuracy on training dataset (SVM):\\t', svm_classifier.score(training_inputs, training_class_labels))\n",
    "\n",
    "# Testing_data accuracy\n",
    "print('Accuracy on testing dataset (SVM):\\t', svm_classifier.score(testing_inputs, testing_output))"
   ]
  },
  {
   "cell_type": "markdown",
   "id": "italian-restaurant",
   "metadata": {},
   "source": [
    "Linear SVM"
   ]
  },
  {
   "cell_type": "code",
   "execution_count": 27,
   "id": "streaming-semester",
   "metadata": {},
   "outputs": [
    {
     "name": "stdout",
     "output_type": "stream",
     "text": [
      "Accuracy on training dataset (Linear SVM):\t 0.8195079901863271\n",
      "Accuracy on testing dataset (Linear SVM):\t 0.8204515272244356\n"
     ]
    }
   ],
   "source": [
    "svm_classifier = LinearSVC(random_state=0, tol=1e-5, max_iter=10000)\n",
    "svm_classifier.fit(training_inputs, training_class_labels)\n",
    "\n",
    "# Training_data accuracy\n",
    "print('Accuracy on training dataset (Linear SVM):\\t', svm_classifier.score(training_inputs, training_class_labels))\n",
    "\n",
    "# Testing_data accuracy\n",
    "print('Accuracy on testing dataset (Linear SVM):\\t', svm_classifier.score(testing_inputs, testing_output))"
   ]
  },
  {
   "cell_type": "markdown",
   "id": "waiting-particular",
   "metadata": {},
   "source": [
    "Logistic Regression"
   ]
  },
  {
   "cell_type": "code",
   "execution_count": 28,
   "id": "prepared-clear",
   "metadata": {},
   "outputs": [
    {
     "name": "stdout",
     "output_type": "stream",
     "text": [
      "Accuracy on training dataset (Logistic Regression):\t 0.8205026191897089\n",
      "Accuracy on testing dataset (Logistic Regression):\t 0.8202523240371846\n"
     ]
    }
   ],
   "source": [
    "logistic_classifier = LogisticRegression(random_state=0)\n",
    "logistic_classifier.fit(training_inputs, training_class_labels)\n",
    "\n",
    "# Training_data accuracy\n",
    "print('Accuracy on training dataset (Logistic Regression):\\t', logistic_classifier.score(training_inputs, training_class_labels))\n",
    "\n",
    "# Testing_data accuracy\n",
    "print('Accuracy on testing dataset (Logistic Regression):\\t', logistic_classifier.score(testing_inputs, testing_output))"
   ]
  },
  {
   "cell_type": "markdown",
   "id": "amateur-staff",
   "metadata": {},
   "source": [
    "K-nearest_neighboor (KNN)"
   ]
  },
  {
   "cell_type": "code",
   "execution_count": 29,
   "id": "color-ottawa",
   "metadata": {},
   "outputs": [
    {
     "name": "stdout",
     "output_type": "stream",
     "text": [
      "Accuracy on training dataset (KNN):\t 0.9999668456998873\n",
      "Accuracy on testing dataset (KNN):\t 0.8289508632138114\n"
     ]
    }
   ],
   "source": [
    "knn_classifier = KNeighborsClassifier(n_neighbors=100, weights='distance')\n",
    "knn_classifier.fit(training_inputs, training_class_labels)\n",
    "\n",
    "# Training_data accuracy\n",
    "print('Accuracy on training dataset (KNN):\\t', knn_classifier.score(training_inputs, training_class_labels))\n",
    "\n",
    "# Testing_data accuracy\n",
    "print('Accuracy on testing dataset (KNN):\\t', knn_classifier.score(testing_inputs, testing_output))"
   ]
  },
  {
   "cell_type": "markdown",
   "id": "another-graphics",
   "metadata": {},
   "source": [
    "Decision Tree"
   ]
  },
  {
   "cell_type": "code",
   "execution_count": 30,
   "id": "western-character",
   "metadata": {},
   "outputs": [
    {
     "name": "stdout",
     "output_type": "stream",
     "text": [
      "Accuracy on training dataset (Decision Tree):\t 0.9999668456998873\n",
      "Accuracy on testing dataset (Decision Tree):\t 0.8075033200531209\n"
     ]
    }
   ],
   "source": [
    "dt_classifier = DecisionTreeClassifier(random_state=0, splitter='best', criterion='entropy')\n",
    "dt_classifier.fit(training_inputs, training_class_labels)\n",
    "\n",
    "# Training_data accuracy\n",
    "print('Accuracy on training dataset (Decision Tree):\\t', dt_classifier.score(training_inputs, training_class_labels))\n",
    "\n",
    "# Testing_data accuracy\n",
    "print('Accuracy on testing dataset (Decision Tree):\\t', dt_classifier.score(testing_inputs, testing_output))"
   ]
  },
  {
   "cell_type": "code",
   "execution_count": null,
   "id": "considered-booth",
   "metadata": {},
   "outputs": [],
   "source": []
  }
 ],
 "metadata": {
  "kernelspec": {
   "display_name": "Python 3",
   "language": "python",
   "name": "python3"
  },
  "language_info": {
   "codemirror_mode": {
    "name": "ipython",
    "version": 3
   },
   "file_extension": ".py",
   "mimetype": "text/x-python",
   "name": "python",
   "nbconvert_exporter": "python",
   "pygments_lexer": "ipython3",
   "version": "3.7.4"
  }
 },
 "nbformat": 4,
 "nbformat_minor": 5
}
