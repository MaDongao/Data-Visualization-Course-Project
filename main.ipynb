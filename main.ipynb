{
 "cells": [
  {
   "cell_type": "code",
   "execution_count": 1,
   "metadata": {
    "pycharm": {
     "name": "#%%\n"
    }
   },
   "outputs": [],
   "source": [
    "# Basic Setup\n",
    "import numpy as np\n",
    "import pandas as pd\n"
   ]
  },
  {
   "cell_type": "code",
   "execution_count": 2,
   "metadata": {
    "pycharm": {
     "name": "#%% Read Data\n"
    },
    "scrolled": true
   },
   "outputs": [],
   "source": [
    "# Read Data\n",
    "all_data = pd.read_csv('adult.data', sep=',', header=None)\n",
    "attributes_names = ['Age', 'Workclass','Fnlwgt','Education','Education_Num','Marital_Status',\n",
    "                    'Occupation','Relationship','Race','Sex','Capital_Gain','Capital_Loss',\n",
    "                    'Hours_Per_Week','Native_Country','Income']\n",
    "all_data.columns = attributes_names\n"
   ]
  },
  {
   "cell_type": "code",
   "execution_count": null,
   "metadata": {},
   "outputs": [],
   "source": []
  },
  {
   "cell_type": "markdown",
   "metadata": {},
   "source": [
    "Prediction:"
   ]
  },
  {
   "cell_type": "code",
   "execution_count": 3,
   "metadata": {},
   "outputs": [
    {
     "name": "stdout",
     "output_type": "stream",
     "text": [
      "[[    39      0  77516 ...      0     40      0]\n",
      " [    50      1  83311 ...      0     13      0]\n",
      " [    38      2 215646 ...      0     40      0]\n",
      " ...\n",
      " [    58      2 151910 ...      0     40      0]\n",
      " [    22      2 201490 ...      0     20      0]\n",
      " [    52      6 287927 ...      0     40      0]]\n",
      "[0 0 0 ... 0 0 1]\n",
      "{1: {' State-gov': 0, ' Self-emp-not-inc': 1, ' Private': 2, ' Federal-gov': 3, ' Local-gov': 4, ' ?': 5, ' Self-emp-inc': 6, ' Without-pay': 7, ' Never-worked': 8}, 3: {' Bachelors': 0, ' HS-grad': 1, ' 11th': 2, ' Masters': 3, ' 9th': 4, ' Some-college': 5, ' Assoc-acdm': 6, ' Assoc-voc': 7, ' 7th-8th': 8, ' Doctorate': 9, ' Prof-school': 10, ' 5th-6th': 11, ' 10th': 12, ' 1st-4th': 13, ' Preschool': 14, ' 12th': 15}, 5: {' Never-married': 0, ' Married-civ-spouse': 1, ' Divorced': 2, ' Married-spouse-absent': 3, ' Separated': 4, ' Married-AF-spouse': 5, ' Widowed': 6}, 6: {' Adm-clerical': 0, ' Exec-managerial': 1, ' Handlers-cleaners': 2, ' Prof-specialty': 3, ' Other-service': 4, ' Sales': 5, ' Craft-repair': 6, ' Transport-moving': 7, ' Farming-fishing': 8, ' Machine-op-inspct': 9, ' Tech-support': 10, ' ?': 11, ' Protective-serv': 12, ' Armed-Forces': 13, ' Priv-house-serv': 14}, 7: {' Not-in-family': 0, ' Husband': 1, ' Wife': 2, ' Own-child': 3, ' Unmarried': 4, ' Other-relative': 5}, 8: {' White': 0, ' Black': 1, ' Asian-Pac-Islander': 2, ' Amer-Indian-Eskimo': 3, ' Other': 4}, 9: {' Male': 0, ' Female': 1}, 13: {' United-States': 0, ' Cuba': 1, ' Jamaica': 2, ' India': 3, ' ?': 4, ' Mexico': 5, ' South': 6, ' Puerto-Rico': 7, ' Honduras': 8, ' England': 9, ' Canada': 10, ' Germany': 11, ' Iran': 12, ' Philippines': 13, ' Italy': 14, ' Poland': 15, ' Columbia': 16, ' Cambodia': 17, ' Thailand': 18, ' Ecuador': 19, ' Laos': 20, ' Taiwan': 21, ' Haiti': 22, ' Portugal': 23, ' Dominican-Republic': 24, ' El-Salvador': 25, ' France': 26, ' Guatemala': 27, ' China': 28, ' Japan': 29, ' Yugoslavia': 30, ' Peru': 31, ' Outlying-US(Guam-USVI-etc)': 32, ' Scotland': 33, ' Trinadad&Tobago': 34, ' Greece': 35, ' Nicaragua': 36, ' Vietnam': 37, ' Hong': 38, ' Ireland': 39, ' Hungary': 40, ' Holand-Netherlands': 41}}\n"
     ]
    }
   ],
   "source": [
    "def rearrange_data(data, corresponding_attributes):\n",
    "    '''\n",
    "        Rearrange all data and use integer to represent each attributes and corresponding labels\n",
    "        Return:\n",
    "                1. inputs\n",
    "                2. corresponding outputs\n",
    "    '''\n",
    "    num_data = len(data)\n",
    "    num_attributes = len(attributes_names) - 1\n",
    "    class_labels = np.zeros(num_data, dtype='int')\n",
    "    inputs = np.zeros((num_data, num_attributes), dtype='int')  # Initialize data \n",
    "\n",
    "    \n",
    "    for j in range(num_attributes):    # Rearrange inputs\n",
    "        dic = {}\n",
    "        cor_index = 0\n",
    "        for i in range(num_data):\n",
    "            if j == 1 or j == 3 or 5 <= j <= 9 or j == 13:\n",
    "                if data[attributes_names[j]][i] not in dic:\n",
    "                    dic[data[attributes_names[j]][i]] = cor_index\n",
    "                    cor_index += 1\n",
    "                inputs[i][j] = dic[data[attributes_names[j]][i]]\n",
    "            else:\n",
    "                inputs[i][j] = data[attributes_names[j]][i]\n",
    "        if len(dic.keys()) > 0:\n",
    "            corresponding_attributes[j] = dic\n",
    "    dic = {}\n",
    "    cor_index = 0\n",
    "    for i in range(num_data):         # Rearrange class_labels(output)\n",
    "        if data['Income'][i] not in dic:\n",
    "            dic[data['Income'][i]] = cor_index\n",
    "            cor_index += 1\n",
    "        class_labels[i] = dic[data['Income'][i]]\n",
    "    return inputs, class_labels, corresponding_attributes\n",
    "\n",
    "corresponding_attributes = {}\n",
    "inputs, class_labels, corresponding_attributes = rearrange_data(all_data, corresponding_attributes)\n",
    "print(inputs)\n",
    "print(class_labels)\n",
    "print(corresponding_attributes)"
   ]
  },
  {
   "cell_type": "code",
   "execution_count": null,
   "metadata": {},
   "outputs": [],
   "source": []
  }
 ],
 "metadata": {
  "kernelspec": {
   "display_name": "Python 3",
   "language": "python",
   "name": "python3"
  },
  "language_info": {
   "codemirror_mode": {
    "name": "ipython",
    "version": 3
   },
   "file_extension": ".py",
   "mimetype": "text/x-python",
   "name": "python",
   "nbconvert_exporter": "python",
   "pygments_lexer": "ipython3",
   "version": "3.7.4"
  }
 },
 "nbformat": 4,
 "nbformat_minor": 1
}
