{
 "cells": [
  {
   "cell_type": "code",
   "execution_count": 92,
   "metadata": {
    "pycharm": {
     "name": "#%%\n"
    }
   },
   "outputs": [],
   "source": [
    "# Basic Setup\n",
    "import numpy as np\n",
    "import pandas as pd\n",
    "import collections\n",
    "import matplotlib.pyplot as plt"
   ]
  },
  {
   "cell_type": "code",
   "execution_count": 2,
   "metadata": {
    "pycharm": {
     "name": "#%% Read Data\n"
    },
    "scrolled": true
   },
   "outputs": [],
   "source": [
    "# Read Data\n",
    "all_data = pd.read_csv('adult.data', sep=',', header=None)\n",
    "attributes_names = ['Age', 'Workclass','Fnlwgt','Education','Education_Num','Marital_Status',\n",
    "                    'Occupation','Relationship','Race','Sex','Capital_Gain','Capital_Loss',\n",
    "                    'Hours_Per_Week','Native_Country','Income']\n",
    "all_data.columns = attributes_names"
   ]
  },
  {
   "cell_type": "code",
   "execution_count": 25,
   "metadata": {},
   "outputs": [
    {
     "name": "stdout",
     "output_type": "stream",
     "text": [
      "[[    39      0  77516 ...      0     40      0]\n",
      " [    50      1  83311 ...      0     13      0]\n",
      " [    38      2 215646 ...      0     40      0]\n",
      " ...\n",
      " [    58      2 151910 ...      0     40      0]\n",
      " [    22      2 201490 ...      0     20      0]\n",
      " [    52      6 287927 ...      0     40      0]]\n",
      "[0 0 0 ... 0 0 1]\n"
     ]
    }
   ],
   "source": [
    "def rearrange_data(data, corresponding_attributes):\n",
    "    '''\n",
    "        Rearrange all data and use integer to represent each attributes and corresponding labels\n",
    "        Return:\n",
    "                1. inputs\n",
    "                2. corresponding outputs\n",
    "    '''\n",
    "    num_data = len(data)\n",
    "    num_attributes = len(attributes_names) - 1\n",
    "    class_labels = np.zeros(num_data, dtype='int')\n",
    "    inputs = np.zeros((num_data, num_attributes), dtype='int')  # Initialize data \n",
    "\n",
    "    \n",
    "    for j in range(num_attributes):    # Rearrange inputs\n",
    "        dic = {}\n",
    "        cor_index = 0\n",
    "        for i in range(num_data):\n",
    "            if j == 1 or j == 3 or 5 <= j <= 9 or j == 13:\n",
    "                if data[attributes_names[j]][i] not in dic:\n",
    "                    dic[data[attributes_names[j]][i]] = cor_index\n",
    "                    cor_index += 1\n",
    "                inputs[i][j] = dic[data[attributes_names[j]][i]]\n",
    "            else:\n",
    "                inputs[i][j] = data[attributes_names[j]][i]\n",
    "        if len(dic.keys()) > 0:\n",
    "            corresponding_attributes[j] = dic\n",
    "    dic = {}\n",
    "    cor_index = 0\n",
    "    for i in range(num_data):         # Rearrange class_labels(output)\n",
    "        if data['Income'][i] not in dic:\n",
    "            dic[data['Income'][i]] = cor_index\n",
    "            cor_index += 1\n",
    "        class_labels[i] = dic[data['Income'][i]]\n",
    "    return inputs, class_labels, corresponding_attributes\n",
    "\n",
    "corresponding_attributes = {}\n",
    "inputs, class_labels, corresponding_attributes = rearrange_data(all_data, corresponding_attributes)\n",
    "print(inputs)\n",
    "print(class_labels)\n",
    "# print(corresponding_attributes)"
   ]
  },
  {
   "cell_type": "code",
   "execution_count": null,
   "metadata": {},
   "outputs": [],
   "source": [
    "# convert inputs back to dataframe and append the class label to the end\n",
    "class_labels_T = np.array([class_labels])\n",
    "all_input = np.append(inputs, class_labels_T.T, axis=1)\n",
    "df = pd.DataFrame(all_input, columns = attributes_names)\n",
    "# df[:10]"
   ]
  },
  {
   "cell_type": "code",
   "execution_count": 127,
   "metadata": {},
   "outputs": [
    {
     "data": {
      "image/png": "[encoded data removed]",
      "text/plain": [
       "<Figure size 720x360 with 1 Axes>"
      ]
     },
     "metadata": {
      "needs_background": "light"
     },
     "output_type": "display_data"
    }
   ],
   "source": [
    "# bar plot of income vs education level\n",
    "\n",
    "# get the education levels and count how many groups are in each level\n",
    "less = [row[4] for row in all_input if row[-1] == 0]\n",
    "more = [row[4] for row in all_input if row[-1] == 1]\n",
    "less_than_50k = collections.Counter(less)\n",
    "more_than_50k = collections.Counter(more)\n",
    "\n",
    "# fill the dictionary if there exists key(s) that has(have) 0 value\n",
    "for i in range(1, 17):\n",
    "    if i not in less_than_50k:\n",
    "        less_than_50k[i] = 0\n",
    "for i in range(1, 17):\n",
    "    if i not in more_than_50k:\n",
    "        more_than_50k[i] = 0\n",
    "        \n",
    "# extract the values of groups\n",
    "less_than_50k = sorted(less_than_50k.items(), key=lambda x: x[0])\n",
    "more_than_50k = sorted(more_than_50k.items(), key=lambda x: x[0])\n",
    "less_than_50k_values = [value for key, value in less_than_50k]\n",
    "more_than_50k_values = [value for key, value in more_than_50k]\n",
    "\n",
    "# plot the graph\n",
    "df = pd.DataFrame({'Income <=50K': less_than_50k_values, 'Income >50K': more_than_50k_values})\n",
    "df.plot(kind=\"bar\", colormap='Paired', figsize=(10,5))\n",
    "\n",
    "plt.title(\"Bar-Plot: Income vs Education-Num\", fontsize=20, pad=20)\n",
    "plt.legend(loc=1, prop={'size': 13})\n",
    "plt.xlabel(\"Education Levels\", fontsize=17)\n",
    "plt.ylabel(\"Groups\", fontsize=17)\n",
    "plt.show()"
   ]
  },
  {
   "cell_type": "code",
   "execution_count": null,
   "metadata": {},
   "outputs": [],
   "source": []
  }
 ],
 "metadata": {
  "kernelspec": {
   "display_name": "Python 3",
   "language": "python",
   "name": "python3"
  },
  "language_info": {
   "codemirror_mode": {
    "name": "ipython",
    "version": 3
   },
   "file_extension": ".py",
   "mimetype": "text/x-python",
   "name": "python",
   "nbconvert_exporter": "python",
   "pygments_lexer": "ipython3",
   "version": "3.8.5"
  }
 },
 "nbformat": 4,
 "nbformat_minor": 1
}
