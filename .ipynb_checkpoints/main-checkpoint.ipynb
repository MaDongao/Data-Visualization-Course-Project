{
 "cells": [
  {
   "cell_type": "code",
   "execution_count": 1,
   "metadata": {
    "pycharm": {
     "name": "#%%\n"
    }
   },
   "outputs": [],
   "source": [
    "# Basic Setup\n",
    "import numpy as np\n",
    "import pandas as pd\n"
   ]
  },
  {
   "cell_type": "code",
   "execution_count": 2,
   "metadata": {
    "pycharm": {
     "name": "#%% Read Data\n"
    },
    "scrolled": true
   },
   "outputs": [],
   "source": [
    "# Read Data\n",
    "all_data = pd.read_csv('adult.data', sep=',', header=None)\n",
    "attributes_names = ['Age', 'Workclass','Fnlwgt','Education','Education_Num','Marital_Status',\n",
    "                    'Occupation','Relationship','Race','Sex','Capital_Gain','Capital_Loss',\n",
    "                    'Hours_Per_Week','Native_Country','Income']\n",
    "all_data.columns = attributes_names\n"
   ]
  },
  {
   "cell_type": "code",
   "execution_count": null,
   "metadata": {},
   "outputs": [],
   "source": []
  },
  {
   "cell_type": "markdown",
   "metadata": {},
   "source": [
    "Prediction:"
   ]
  },
  {
   "cell_type": "code",
   "execution_count": 3,
   "metadata": {},
   "outputs": [
    {
     "name": "stdout",
     "output_type": "stream",
     "text": [
      "[[    39      0  77516 ...      0     40      0]\n",
      " [    50      1  83311 ...      0     13      0]\n",
      " [    38      2 215646 ...      0     40      0]\n",
      " ...\n",
      " [    58      2 151910 ...      0     40      0]\n",
      " [    22      2 201490 ...      0     20      0]\n",
      " [    52      6 287927 ...      0     40      0]]\n",
      "[0 0 0 ... 0 0 1]\n"
     ]
    }
   ],
   "source": [
    "def rearrange_data():\n",
    "    '''\n",
    "        Rearrange all data and use integer to represent each attributes and corresponding labels\n",
    "        Return:\n",
    "                1. inputs\n",
    "                2. corresponding outputs\n",
    "    '''\n",
    "    num_data = len(all_data)\n",
    "    num_attributes = len(attributes_names) - 1\n",
    "    class_labels = np.zeros(num_data, dtype='int')\n",
    "    inputs = np.zeros((num_data, num_attributes), dtype='int')  # Initialize data \n",
    "    \n",
    "    for j in range(num_attributes):    # Rearrange inputs\n",
    "        dic = {}\n",
    "        cor_index = 0\n",
    "        for i in range(num_data):\n",
    "            if j == 1 or j == 3 or 5 <= j <= 9 or j == 13:\n",
    "                if all_data[attributes_names[j]][i] not in dic:\n",
    "                    dic[all_data[attributes_names[j]][i]] = cor_index\n",
    "                    cor_index += 1\n",
    "                inputs[i][j] = dic[all_data[attributes_names[j]][i]]\n",
    "            else:\n",
    "                inputs[i][j] = all_data[attributes_names[j]][i]\n",
    "    dic = {}\n",
    "    cor_index = 0\n",
    "    for i in range(num_data):         # Rearrange class_labels(output)\n",
    "        if all_data['Income'][i] not in dic:\n",
    "            dic[all_data['Income'][i]] = cor_index\n",
    "            cor_index += 1\n",
    "        class_labels[i] = dic[all_data['Income'][i]]\n",
    "    return inputs, class_labels\n",
    "\n",
    "\n",
    "inputs, class_labels = rearrange_data()\n",
    "print(inputs)\n",
    "print(class_labels)"
   ]
  },
  {
   "cell_type": "code",
   "execution_count": null,
   "metadata": {},
   "outputs": [],
   "source": []
  }
 ],
 "metadata": {
  "kernelspec": {
   "display_name": "Python 3",
   "language": "python",
   "name": "python3"
  },
  "language_info": {
   "codemirror_mode": {
    "name": "ipython",
    "version": 3
   },
   "file_extension": ".py",
   "mimetype": "text/x-python",
   "name": "python",
   "nbconvert_exporter": "python",
   "pygments_lexer": "ipython3",
   "version": "3.7.4"
  }
 },
 "nbformat": 4,
 "nbformat_minor": 1
}
