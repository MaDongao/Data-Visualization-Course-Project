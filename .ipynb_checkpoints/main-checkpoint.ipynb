{
 "cells": [
  {
   "cell_type": "code",
   "execution_count": 1,
   "metadata": {
    "pycharm": {
     "name": "#%%\n"
    }
   },
   "outputs": [],
   "source": [
    "# Basic Setup\n",
    "import numpy as np\n",
    "import pandas as pd\n",
    "from sklearn.naive_bayes import GaussianNB\n",
    "from sklearn.svm import SVC\n",
    "from sklearn.svm import LinearSVC\n",
    "from sklearn.preprocessing import StandardScaler\n",
    "from sklearn.linear_model import LogisticRegression\n",
    "from sklearn.neighbors import KNeighborsClassifier\n",
    "from sklearn.tree import DecisionTreeClassifier"
   ]
  },
  {
   "cell_type": "code",
   "execution_count": 2,
   "metadata": {
    "pycharm": {
     "name": "#%% Read Data\n"
    },
    "scrolled": true
   },
   "outputs": [
    {
     "name": "stdout",
     "output_type": "stream",
     "text": [
      "<class 'pandas.core.frame.DataFrame'>\n",
      "RangeIndex: 32561 entries, 0 to 32560\n",
      "Data columns (total 15 columns):\n",
      " #   Column          Non-Null Count  Dtype \n",
      "---  ------          --------------  ----- \n",
      " 0   Age             32561 non-null  int64 \n",
      " 1   Workclass       32561 non-null  object\n",
      " 2   Fnlwgt          32561 non-null  int64 \n",
      " 3   Education       32561 non-null  object\n",
      " 4   Education_Num   32561 non-null  int64 \n",
      " 5   Marital_Status  32561 non-null  object\n",
      " 6   Occupation      32561 non-null  object\n",
      " 7   Relationship    32561 non-null  object\n",
      " 8   Race            32561 non-null  object\n",
      " 9   Sex             32561 non-null  object\n",
      " 10  Capital_Gain    32561 non-null  int64 \n",
      " 11  Capital_Loss    32561 non-null  int64 \n",
      " 12  Hours_Per_Week  32561 non-null  int64 \n",
      " 13  Native_Country  32561 non-null  object\n",
      " 14  Income          32561 non-null  object\n",
      "dtypes: int64(6), object(9)\n",
      "memory usage: 3.7+ MB\n"
     ]
    }
   ],
   "source": [
    "# Read Data\n",
    "training_data = pd.read_csv('adult.data', sep=',', header=None)\n",
    "attributes_names = ['Age', 'Workclass','Fnlwgt','Education','Education_Num','Marital_Status',\n",
    "                    'Occupation','Relationship','Race','Sex','Capital_Gain','Capital_Loss',\n",
    "                    'Hours_Per_Week','Native_Country','Income']\n",
    "training_data.columns = attributes_names\n",
    "training_data.info()"
   ]
  },
  {
   "cell_type": "markdown",
   "metadata": {},
   "source": [
    "remove useless data from dataset: "
   ]
  },
  {
   "cell_type": "code",
   "execution_count": 3,
   "metadata": {},
   "outputs": [
    {
     "name": "stdout",
     "output_type": "stream",
     "text": [
      "Number of data in dataset after removing unkown value:\t 30162\n"
     ]
    }
   ],
   "source": [
    "object_columns = ['Workclass', 'Education', 'Marital_Status', 'Occupation',\n",
    "                          'Relationship', 'Race', 'Sex', 'Native_Country', 'Income']\n",
    "numerical_training_data = training_data.copy()\n",
    "for str_col in object_columns:\n",
    "    # remove unknown value ('?')\n",
    "    training_data = training_data[training_data[str_col] != ' ?']\n",
    "    numerical_training_data = numerical_training_data[numerical_training_data[str_col] != ' ?']\n",
    "    # assign numerical value for categorical value\n",
    "    numerical_training_data[str_col] = numerical_training_data[str_col].astype('category').cat.codes\n",
    "\n",
    "print('Number of data in dataset after removing unkown value:\\t', len(numerical_training_data))\n",
    "\n",
    "# record numerical value for categorical value in each object attribute\n",
    "corresponding_attributes = {}\n",
    "for j in (1, 3, 5, 6, 7, 8, 9, 13):\n",
    "    dic, numerical_list = {}, list(numerical_training_data[attributes_names[j]])\n",
    "    for i, temp_str in enumerate(list(training_data[attributes_names[j]])):\n",
    "        if temp_str.strip() not in dic:\n",
    "            dic[temp_str.strip()] = numerical_list[i]\n",
    "    corresponding_attributes[j] = dic\n",
    "# print(corresponding_attributes)"
   ]
  },
  {
   "cell_type": "code",
   "execution_count": null,
   "metadata": {},
   "outputs": [],
   "source": []
  },
  {
   "cell_type": "code",
   "execution_count": null,
   "metadata": {},
   "outputs": [],
   "source": []
  },
  {
   "cell_type": "markdown",
   "metadata": {},
   "source": [
    "Prediction:"
   ]
  },
  {
   "cell_type": "code",
   "execution_count": 4,
   "metadata": {},
   "outputs": [],
   "source": [
    "def load_test_data(corresponding_attributes):\n",
    "    inputs, expected_output = [],[]\n",
    "    # print(corresponding_attributes)\n",
    "    with open('adult.test', 'r') as myfile:\n",
    "        myfile.readline()         # flush the first line\n",
    "        line = myfile.readline()[:-2]      # ignore '.' and '\\n'\n",
    "        while line and line != '\\n':\n",
    "            temp_list = line.split(', ')\n",
    "            inputs_list, output_label = temp_list[:-1], temp_list[-1]\n",
    "            check_for_question_mark = False\n",
    "            for index, dic in corresponding_attributes.items():\n",
    "                if inputs_list[index].strip() == '?':\n",
    "                    check_for_question_mark = True\n",
    "                    break\n",
    "                if inputs_list[index].strip() in dic:\n",
    "                    inputs_list[index] = dic[inputs_list[index]]  \n",
    "            if check_for_question_mark:\n",
    "                line = myfile.readline()[:-2]\n",
    "                continue\n",
    "            if output_label.strip() == '<=50K':\n",
    "                expected_output.append(0)\n",
    "            else:\n",
    "                expected_output.append(1)\n",
    "            inputs.append(inputs_list)\n",
    "            line = myfile.readline()[:-2]\n",
    "    return np.array(inputs, dtype='int'), np.array(expected_output, dtype='int')\n",
    "\n",
    "training_inputs, training_class_labels = numerical_training_data.drop(columns=['Income']).to_numpy(dtype='int'), numerical_training_data['Income'].to_numpy(dtype='int')\n",
    "testing_inputs, testing_output = load_test_data(corresponding_attributes)\n",
    "\n",
    "# normalize data, ensure the range for each attribute are same\n",
    "training_inputs = StandardScaler().fit_transform(training_inputs)\n",
    "testing_inputs = StandardScaler().fit_transform(testing_inputs)"
   ]
  },
  {
   "cell_type": "markdown",
   "metadata": {},
   "source": [
    "Naive Bayes Classifcation"
   ]
  },
  {
   "cell_type": "code",
   "execution_count": 5,
   "metadata": {},
   "outputs": [
    {
     "name": "stdout",
     "output_type": "stream",
     "text": [
      "Accuracy on training dataset (Naive-Bayes):\t 0.7982560838140706\n",
      "Accuracy on testing dataset (Naive-Bayes):\t 0.8\n"
     ]
    }
   ],
   "source": [
    "# Naive Bayes Classification\n",
    "naive_bayes_classifier = GaussianNB()\n",
    "naive_bayes_classifier.fit(training_inputs, training_class_labels)\n",
    "\n",
    "# Training_data accuracy\n",
    "estimated_training_output = naive_bayes_classifier.predict(training_inputs)\n",
    "print('Accuracy on training dataset (Naive-Bayes):\\t', naive_bayes_classifier.score(training_inputs, training_class_labels))\n",
    "\n",
    "# Testing_data accuracy\n",
    "estimated_testing_output = naive_bayes_classifier.predict(testing_inputs)\n",
    "print('Accuracy on testing dataset (Naive-Bayes):\\t', naive_bayes_classifier.score(testing_inputs, testing_output))"
   ]
  },
  {
   "cell_type": "markdown",
   "metadata": {},
   "source": [
    "Support Vector Machine(SVM)"
   ]
  },
  {
   "cell_type": "code",
   "execution_count": 6,
   "metadata": {
    "scrolled": true
   },
   "outputs": [
    {
     "name": "stdout",
     "output_type": "stream",
     "text": [
      "Accuracy on training dataset (SVM):\t 0.8529938333001791\n",
      "Accuracy on testing dataset (SVM):\t 0.846215139442231\n"
     ]
    }
   ],
   "source": [
    "svm_classifier = SVC() #'RBF' as default model\n",
    "svm_classifier.fit(training_inputs, training_class_labels)\n",
    "\n",
    "# Training_data accuracy\n",
    "print('Accuracy on training dataset (SVM):\\t', svm_classifier.score(training_inputs, training_class_labels))\n",
    "\n",
    "# Testing_data accuracy\n",
    "print('Accuracy on testing dataset (SVM):\\t', svm_classifier.score(testing_inputs, testing_output))"
   ]
  },
  {
   "cell_type": "markdown",
   "metadata": {},
   "source": [
    "Linear SVM"
   ]
  },
  {
   "cell_type": "code",
   "execution_count": 7,
   "metadata": {},
   "outputs": [
    {
     "name": "stdout",
     "output_type": "stream",
     "text": [
      "Accuracy on training dataset (Linear SVM):\t 0.8192759100855381\n",
      "Accuracy on testing dataset (Linear SVM):\t 0.8204515272244356\n"
     ]
    }
   ],
   "source": [
    "svm_classifier = LinearSVC(random_state=0, tol=1e-5, max_iter=10000)\n",
    "svm_classifier.fit(training_inputs, training_class_labels)\n",
    "\n",
    "# Training_data accuracy\n",
    "print('Accuracy on training dataset (Linear SVM):\\t', svm_classifier.score(training_inputs, training_class_labels))\n",
    "\n",
    "# Testing_data accuracy\n",
    "print('Accuracy on testing dataset (Linear SVM):\\t', svm_classifier.score(testing_inputs, testing_output))"
   ]
  },
  {
   "cell_type": "markdown",
   "metadata": {},
   "source": [
    "Logistic Regression"
   ]
  },
  {
   "cell_type": "code",
   "execution_count": 8,
   "metadata": {},
   "outputs": [
    {
     "name": "stdout",
     "output_type": "stream",
     "text": [
      "Accuracy on training dataset (Logistic Regression):\t 0.820370001989258\n",
      "Accuracy on testing dataset (Logistic Regression):\t 0.8199867197875166\n"
     ]
    }
   ],
   "source": [
    "logistic_classifier = LogisticRegression(random_state=0)\n",
    "logistic_classifier.fit(training_inputs, training_class_labels)\n",
    "\n",
    "# Training_data accuracy\n",
    "print('Accuracy on training dataset (Logistic Regression):\\t', logistic_classifier.score(training_inputs, training_class_labels))\n",
    "\n",
    "# Testing_data accuracy\n",
    "print('Accuracy on testing dataset (Logistic Regression):\\t', logistic_classifier.score(testing_inputs, testing_output))"
   ]
  },
  {
   "cell_type": "markdown",
   "metadata": {},
   "source": [
    "K-nearest_neighboor (KNN)"
   ]
  },
  {
   "cell_type": "code",
   "execution_count": null,
   "metadata": {},
   "outputs": [],
   "source": [
    "knn_classifier = KNeighborsClassifier(n_neighbors=100, weights='distance')\n",
    "knn_classifier.fit(training_inputs, training_class_labels)\n",
    "\n",
    "# Training_data accuracy\n",
    "print('Accuracy on training dataset (KNN):\\t', knn_classifier.score(training_inputs, training_class_labels))\n",
    "\n",
    "# Testing_data accuracy\n",
    "print('Accuracy on testing dataset (KNN):\\t', knn_classifier.score(testing_inputs, testing_output))"
   ]
  },
  {
   "cell_type": "markdown",
   "metadata": {},
   "source": [
    "Decision Tree"
   ]
  },
  {
   "cell_type": "code",
   "execution_count": null,
   "metadata": {
    "scrolled": true
   },
   "outputs": [],
   "source": [
    "dt_classifier = DecisionTreeClassifier(random_state=0, splitter='best', criterion='entropy')\n",
    "dt_classifier.fit(training_inputs, training_class_labels)\n",
    "\n",
    "# Training_data accuracy\n",
    "print('Accuracy on training dataset (Decision Tree):\\t', dt_classifier.score(training_inputs, training_class_labels))\n",
    "\n",
    "# Testing_data accuracy\n",
    "print('Accuracy on testing dataset (Decision Tree):\\t', dt_classifier.score(testing_inputs, testing_output))"
   ]
  },
  {
   "cell_type": "code",
   "execution_count": null,
   "metadata": {},
   "outputs": [],
   "source": []
  }
 ],
 "metadata": {
  "kernelspec": {
   "display_name": "Python 3",
   "language": "python",
   "name": "python3"
  },
  "language_info": {
   "codemirror_mode": {
    "name": "ipython",
    "version": 3
   },
   "file_extension": ".py",
   "mimetype": "text/x-python",
   "name": "python",
   "nbconvert_exporter": "python",
   "pygments_lexer": "ipython3",
   "version": "3.7.4"
  }
 },
 "nbformat": 4,
 "nbformat_minor": 1
}
