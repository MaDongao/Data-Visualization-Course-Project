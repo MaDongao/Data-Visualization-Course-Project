{
 "cells": [
  {
   "cell_type": "code",
   "execution_count": 1,
   "metadata": {
    "pycharm": {
     "name": "#%%\n"
    }
   },
   "outputs": [],
   "source": [
    "# Basic Setup\n",
    "import numpy as np\n",
    "import pandas as pd\n",
    "from sklearn.naive_bayes import GaussianNB\n",
    "from sklearn.svm import SVC"
   ]
  },
  {
   "cell_type": "code",
   "execution_count": 2,
   "metadata": {
    "pycharm": {
     "name": "#%% Read Data\n"
    },
    "scrolled": true
   },
   "outputs": [],
   "source": [
    "# Read Data\n",
    "training_data = pd.read_csv('adult.data', sep=',', header=None)\n",
    "attributes_names = ['Age', 'Workclass','Fnlwgt','Education','Education_Num','Marital_Status',\n",
    "                    'Occupation','Relationship','Race','Sex','Capital_Gain','Capital_Loss',\n",
    "                    'Hours_Per_Week','Native_Country','Income']\n",
    "training_data.columns = attributes_names\n",
    "\n"
   ]
  },
  {
   "cell_type": "code",
   "execution_count": null,
   "metadata": {},
   "outputs": [],
   "source": []
  },
  {
   "cell_type": "markdown",
   "metadata": {},
   "source": [
    "Prediction:"
   ]
  },
  {
   "cell_type": "code",
   "execution_count": 3,
   "metadata": {
    "scrolled": true
   },
   "outputs": [
    {
     "name": "stdout",
     "output_type": "stream",
     "text": [
      "{1: {'State-gov': 0, 'Self-emp-not-inc': 1, 'Private': 2, 'Federal-gov': 3, 'Local-gov': 4, 'Self-emp-inc': 5, 'Without-pay': 6, 'Never-worked': 7}, 3: {'Bachelors': 0, 'HS-grad': 1, '11th': 2, 'Masters': 3, '9th': 4, 'Some-college': 5, 'Assoc-acdm': 6, 'Assoc-voc': 7, '7th-8th': 8, 'Doctorate': 9, 'Prof-school': 10, '5th-6th': 11, '10th': 12, '1st-4th': 13, 'Preschool': 14, '12th': 15}, 5: {'Never-married': 0, 'Married-civ-spouse': 1, 'Divorced': 2, 'Married-spouse-absent': 3, 'Separated': 4, 'Married-AF-spouse': 5, 'Widowed': 6}, 6: {'Adm-clerical': 0, 'Exec-managerial': 1, 'Handlers-cleaners': 2, 'Prof-specialty': 3, 'Other-service': 4, 'Sales': 5, 'Craft-repair': 6, 'Transport-moving': 7, 'Farming-fishing': 8, 'Machine-op-inspct': 9, 'Tech-support': 10, 'Protective-serv': 11, 'Armed-Forces': 12, 'Priv-house-serv': 13}, 7: {'Not-in-family': 0, 'Husband': 1, 'Wife': 2, 'Own-child': 3, 'Unmarried': 4, 'Other-relative': 5}, 8: {'White': 0, 'Black': 1, 'Asian-Pac-Islander': 2, 'Amer-Indian-Eskimo': 3, 'Other': 4}, 9: {'Male': 0, 'Female': 1}, 13: {'United-States': 0, 'Cuba': 1, 'Jamaica': 2, 'India': 3, 'Mexico': 4, 'South': 5, 'Puerto-Rico': 6, 'Honduras': 7, 'England': 8, 'Canada': 9, 'Germany': 10, 'Iran': 11, 'Philippines': 12, 'Italy': 13, 'Poland': 14, 'Columbia': 15, 'Cambodia': 16, 'Thailand': 17, 'Ecuador': 18, 'Laos': 19, 'Taiwan': 20, 'Haiti': 21, 'Portugal': 22, 'Dominican-Republic': 23, 'El-Salvador': 24, 'France': 25, 'Guatemala': 26, 'China': 27, 'Japan': 28, 'Yugoslavia': 29, 'Peru': 30, 'Outlying-US(Guam-USVI-etc)': 31, 'Scotland': 32, 'Trinadad&Tobago': 33, 'Greece': 34, 'Nicaragua': 35, 'Vietnam': 36, 'Hong': 37, 'Ireland': 38, 'Hungary': 39, 'Holand-Netherlands': 40}}\n"
     ]
    }
   ],
   "source": [
    "def rearrange_data(data, corresponding_attributes):\n",
    "    '''\n",
    "        Rearrange all data and use integer to represent value of each attribute and corresponding label\n",
    "        Return:\n",
    "                1. inputs\n",
    "                2. corresponding outputs\n",
    "    '''\n",
    "    num_data = len(data)\n",
    "    num_attributes = len(attributes_names) - 1\n",
    "    class_labels = np.zeros(num_data, dtype='int')\n",
    "    inputs = np.zeros((num_data, num_attributes), dtype='int')  # Initialize data \n",
    "    unknown_values = set()\n",
    "    \n",
    "    for j in range(num_attributes):                             # Rearrange inputs\n",
    "        dic = {}\n",
    "        cor_index = 0           \n",
    "        for i in range(num_data):\n",
    "            if j == 1 or j == 3 or 5 <= j <= 9 or j == 13:\n",
    "                if data[attributes_names[j]][i].strip() == '?':   \n",
    "                    unknown_values.add(i)                       # record the index of data with '?'\n",
    "                    continue\n",
    "                if data[attributes_names[j]][i].strip() not in dic:\n",
    "                    dic[data[attributes_names[j]][i].strip()] = cor_index\n",
    "                    cor_index += 1\n",
    "                inputs[i][j] = dic[data[attributes_names[j]][i].strip()]\n",
    "            else:\n",
    "                inputs[i][j] = data[attributes_names[j]][i]\n",
    "        if len(dic.keys()) > 0:\n",
    "            corresponding_attributes[j] = dic\n",
    "\n",
    "    for i in range(num_data):         # Rearrange class_labels(output)\n",
    "        if data['Income'][i].strip() != '<=50K':\n",
    "            class_labels[i] = 1\n",
    "            \n",
    "    # print(list(unknown_values))\n",
    "    useless_rows = list(unknown_values)\n",
    "    inputs = np.delete(inputs, useless_rows, 0)\n",
    "    class_labels = np.delete(class_labels, useless_rows, 0)           # delete data with unknown value (?)\n",
    "    \n",
    "    return inputs, class_labels, corresponding_attributes\n",
    "\n",
    "\n",
    "corresponding_attributes = {}\n",
    "training_inputs, training_class_labels, corresponding_attributes = rearrange_data(training_data, corresponding_attributes)\n",
    "print(corresponding_attributes)"
   ]
  },
  {
   "cell_type": "code",
   "execution_count": 4,
   "metadata": {},
   "outputs": [],
   "source": [
    "def load_test_data(corresponding_attributes):\n",
    "    inputs, expected_output = [],[]\n",
    "    # print(corresponding_attributes)\n",
    "    with open('adult.test', 'r') as myfile:\n",
    "        myfile.readline()         # flush the first line\n",
    "        line = myfile.readline()[:-2]      # ignore '.' and '\\n'\n",
    "        while line and line != '\\n':\n",
    "            temp_list = line.split(', ')\n",
    "            inputs_list, output_label = temp_list[:-1], temp_list[-1]\n",
    "            check_for_question_mark = False\n",
    "            for index, dic in corresponding_attributes.items():\n",
    "                if inputs_list[index].strip() == '?':\n",
    "                    check_for_question_mark = True\n",
    "                    break\n",
    "                if inputs_list[index].strip() in dic:\n",
    "                    inputs_list[index] = dic[inputs_list[index]]  \n",
    "            if check_for_question_mark:\n",
    "                line = myfile.readline()[:-2]\n",
    "                continue\n",
    "            if output_label.strip() == '<=50K':\n",
    "                expected_output.append(0)\n",
    "            else:\n",
    "                expected_output.append(1)\n",
    "            inputs.append(inputs_list)\n",
    "            line = myfile.readline()[:-2]\n",
    "    return np.array(inputs, dtype='int'), np.array(expected_output, dtype='int')\n",
    "\n",
    "testing_inputs, testing_output = load_test_data(corresponding_attributes)\n"
   ]
  },
  {
   "cell_type": "markdown",
   "metadata": {},
   "source": [
    "Naive Bayes Classifcation"
   ]
  },
  {
   "cell_type": "code",
   "execution_count": 5,
   "metadata": {},
   "outputs": [
    {
     "name": "stdout",
     "output_type": "stream",
     "text": [
      "Accuracy:\t 0.7888071082819441\n",
      "Accuracy :\t 0.7887782204515272\n"
     ]
    }
   ],
   "source": [
    "# Naive Bayes Classification\n",
    "naive_bayes_classifier = GaussianNB()\n",
    "naive_bayes_classifier.fit(training_inputs, training_class_labels)\n",
    "\n",
    "# Training_data accuracy\n",
    "estimated_training_output = naive_bayes_classifier.predict(training_inputs)\n",
    "num_misclassified = 0\n",
    "for i in range(len(estimated_training_output)):\n",
    "    if estimated_training_output[i] != training_class_labels[i]:\n",
    "        num_misclassified  += 1\n",
    "print('Accuracy:\\t', 1-(num_misclassified / len(estimated_training_output)))\n",
    "\n",
    "# Testing_data accuracy\n",
    "estimated_testing_output = naive_bayes_classifier.predict(testing_inputs)\n",
    "num_misclassified = 0\n",
    "for i in range(len(estimated_testing_output)):\n",
    "    if estimated_testing_output[i] != testing_output[i]:\n",
    "        num_misclassified  += 1\n",
    "print('Accuracy :\\t', 1-(num_misclassified / len(estimated_testing_output)))"
   ]
  },
  {
   "cell_type": "markdown",
   "metadata": {},
   "source": [
    "Support Vector Machine(SVM)"
   ]
  },
  {
   "cell_type": "code",
   "execution_count": 6,
   "metadata": {},
   "outputs": [
    {
     "name": "stdout",
     "output_type": "stream",
     "text": [
      "Accuracy:\t 0.7894038856839732\n",
      "Accuracy :\t 0.7908366533864541\n"
     ]
    }
   ],
   "source": [
    "svm_classifier = SVC()\n",
    "svm_classifier.fit(training_inputs, training_class_labels)\n",
    "# Training_data accuracy\n",
    "estimated_training_output = svm_classifier.predict(training_inputs)\n",
    "num_misclassified = 0\n",
    "for i in range(len(estimated_training_output)):\n",
    "    if estimated_training_output[i] != training_class_labels[i]:\n",
    "        num_misclassified  += 1\n",
    "print('Accuracy:\\t', 1-(num_misclassified / len(estimated_training_output)))\n",
    "\n",
    "# Testing_data accuracy\n",
    "estimated_testing_output = svm_classifier.predict(testing_inputs)\n",
    "num_misclassified = 0\n",
    "for i in range(len(estimated_testing_output)):\n",
    "    if estimated_testing_output[i] != testing_output[i]:\n",
    "        num_misclassified  += 1\n",
    "print('Accuracy :\\t', 1-(num_misclassified / len(estimated_testing_output)))"
   ]
  },
  {
   "cell_type": "code",
   "execution_count": null,
   "metadata": {},
   "outputs": [],
   "source": []
  }
 ],
 "metadata": {
  "kernelspec": {
   "display_name": "Python 3",
   "language": "python",
   "name": "python3"
  },
  "language_info": {
   "codemirror_mode": {
    "name": "ipython",
    "version": 3
   },
   "file_extension": ".py",
   "mimetype": "text/x-python",
   "name": "python",
   "nbconvert_exporter": "python",
   "pygments_lexer": "ipython3",
   "version": "3.7.4"
  }
 },
 "nbformat": 4,
 "nbformat_minor": 1
}
